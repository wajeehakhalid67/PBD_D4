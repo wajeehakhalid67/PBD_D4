{
 "cells": [
  {
   "cell_type": "code",
   "execution_count": 1,
   "id": "8539b1a4",
   "metadata": {},
   "outputs": [],
   "source": [
    "import math"
   ]
  },
  {
   "cell_type": "code",
   "execution_count": 13,
   "id": "fc40bea3",
   "metadata": {},
   "outputs": [
    {
     "name": "stdout",
     "output_type": "stream",
     "text": [
      "23\n",
      "37\n",
      "53\n",
      "73\n",
      "313\n",
      "317\n",
      "373\n",
      "797\n",
      "3137\n",
      "3797\n",
      "739397\n",
      "Sum of All Truncatable Primes below:  748317\n"
     ]
    }
   ],
   "source": [
    "def isPrime(n):\n",
    "    if n in {2, 3, 5, 7}:\n",
    "        return True\n",
    "    if n < 2 or n%2 == 0:\n",
    "        return False\n",
    "    if n%3 == 0 or n%5 == 0:\n",
    "        return False\n",
    "    r = int(n**0.5)\n",
    "    f = 5\n",
    "    while f <= r:\n",
    "        if n%f == 0 or n%(f+2) == 0:\n",
    "            return False\n",
    "        f += 6\n",
    "    return True\n",
    "\n",
    "def gen(nb):\n",
    "    yield nb\n",
    "    nb_str = str(nb)\n",
    "    for k in range(1, len(nb_str)):\n",
    "        yield int(nb_str[k:])\n",
    "        yield int(nb_str[:-k])\n",
    "\n",
    "def check(nb):\n",
    "    for t in gen(nb):\n",
    "        if not isPrime(t):\n",
    "            return False\n",
    "    return True\n",
    "\n",
    "c = sum = 0\n",
    "i = 11\n",
    "while c < 11:\n",
    "    if check(i):\n",
    "        c += 1\n",
    "        sum=sum+i\n",
    "        print(i)\n",
    "    i=i+2\n",
    "\n",
    "print(\"Sum of All Truncatable Primes below: \", sum)"
   ]
  },
  {
   "cell_type": "code",
   "execution_count": null,
   "id": "f8311f7f",
   "metadata": {},
   "outputs": [],
   "source": []
  }
 ],
 "metadata": {
  "kernelspec": {
   "display_name": "Python 3",
   "language": "python",
   "name": "python3"
  },
  "language_info": {
   "codemirror_mode": {
    "name": "ipython",
    "version": 3
   },
   "file_extension": ".py",
   "mimetype": "text/x-python",
   "name": "python",
   "nbconvert_exporter": "python",
   "pygments_lexer": "ipython3",
   "version": "3.8.8"
  }
 },
 "nbformat": 4,
 "nbformat_minor": 5
}
