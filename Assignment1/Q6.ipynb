{
 "cells": [
  {
   "cell_type": "code",
   "execution_count": 1,
   "id": "05625823",
   "metadata": {},
   "outputs": [],
   "source": [
    "import math"
   ]
  },
  {
   "cell_type": "code",
   "execution_count": 14,
   "id": "c267e372",
   "metadata": {},
   "outputs": [
    {
     "name": "stdout",
     "output_type": "stream",
     "text": [
      "8\n",
      "0\n",
      "3\n",
      "6\n",
      "9\n",
      "10\n"
     ]
    }
   ],
   "source": [
    "class CurrentQueue:\n",
    "\n",
    "    def __init__(self,currSize,maxSize):\n",
    "        self.currSize=currSize\n",
    "        self.maxSize=maxSize\n",
    "        self.queue=[]\n",
    "\n",
    "    def enqueue(self,val):\n",
    "        self.queue.append(val)\n",
    "        self.currSize+=1\n",
    "        if self.currSize==self.maxSize:\n",
    "            self.maxSize+=1\n",
    "\n",
    "    def dequeue(self):\n",
    "        self.currSize-=1\n",
    "        return self.queue.pop(self.currSize)\n",
    "\n",
    "    def getSize(self):\n",
    "        return self.currSize\n",
    "\n",
    "    def isEmpty(self):\n",
    "        if self.currSize==0:\n",
    "            return True\n",
    "        else:\n",
    "            return False\n",
    "            \n",
    "    def isFull(self):\n",
    "        if self.currSize==self.maxSize:\n",
    "            return True\n",
    "        else:\n",
    "            return False\n",
    "\n",
    "    def getFrontValue(self):\n",
    "        if self.currSize<=0:\n",
    "            return \"No Elements Remain in Queue\"\n",
    "\n",
    "        return self.queue[0]\n",
    "\n",
    "\n",
    "def display(obj):\n",
    "    len=obj.getSize()\n",
    "    for i in range (len):\n",
    "       print(obj.dequeue())\n",
    "    \n",
    "obj=CurrentQueue(0,5)\n",
    "obj.enqueue(10)\n",
    "obj.enqueue(9)\n",
    "obj.enqueue(6)\n",
    "obj.enqueue(3)\n",
    "obj.enqueue(0)\n",
    "obj.enqueue(8)\n",
    "\n",
    "display(obj)   "
   ]
  },
  {
   "cell_type": "code",
   "execution_count": null,
   "id": "56c5d72e",
   "metadata": {},
   "outputs": [],
   "source": []
  },
  {
   "cell_type": "code",
   "execution_count": null,
   "id": "ebd0764e",
   "metadata": {},
   "outputs": [],
   "source": []
  }
 ],
 "metadata": {
  "kernelspec": {
   "display_name": "Python 3",
   "language": "python",
   "name": "python3"
  },
  "language_info": {
   "codemirror_mode": {
    "name": "ipython",
    "version": 3
   },
   "file_extension": ".py",
   "mimetype": "text/x-python",
   "name": "python",
   "nbconvert_exporter": "python",
   "pygments_lexer": "ipython3",
   "version": "3.8.8"
  }
 },
 "nbformat": 4,
 "nbformat_minor": 5
}
