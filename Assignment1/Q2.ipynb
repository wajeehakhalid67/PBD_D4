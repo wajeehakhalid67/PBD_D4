{
 "cells": [
  {
   "cell_type": "code",
   "execution_count": 9,
   "id": "8a5f0f65",
   "metadata": {},
   "outputs": [
    {
     "name": "stdout",
     "output_type": "stream",
     "text": [
      "Sum of the most consecutive primes: 997651\n"
     ]
    }
   ],
   "source": [
    "LIMIT = 1000000\n",
    "\n",
    "x = [1] * (LIMIT + 1)\n",
    "x[0] = x[1] = 0\n",
    "\n",
    "primes = []\n",
    "length = 0\n",
    "\n",
    "for i in range(2, LIMIT):\n",
    "    if x[i]:\n",
    "        primes.append(i)\n",
    "        length += 1\n",
    "\n",
    "        for j in range(i * i, LIMIT + 1, i):\n",
    "            x[j] = 0\n",
    "\n",
    "s = 0\n",
    "prev = -1\n",
    "cnt = -1\n",
    "\n",
    "for i in range(length):\n",
    "    s = 0\n",
    "\n",
    "    for j in range(i, length):\n",
    "        s += primes[j]\n",
    "\n",
    "        if s > LIMIT:\n",
    "            break\n",
    "\n",
    "        if x[s] and cnt < j - i + 1:\n",
    "            cnt = j - i + 1\n",
    "            prev = s\n",
    "\n",
    "print('Sum of the most consecutive primes:', prev)"
   ]
  },
  {
   "cell_type": "code",
   "execution_count": null,
   "id": "eb40bcd7",
   "metadata": {},
   "outputs": [],
   "source": []
  }
 ],
 "metadata": {
  "kernelspec": {
   "display_name": "Python 3",
   "language": "python",
   "name": "python3"
  },
  "language_info": {
   "codemirror_mode": {
    "name": "ipython",
    "version": 3
   },
   "file_extension": ".py",
   "mimetype": "text/x-python",
   "name": "python",
   "nbconvert_exporter": "python",
   "pygments_lexer": "ipython3",
   "version": "3.8.8"
  }
 },
 "nbformat": 4,
 "nbformat_minor": 5
}
