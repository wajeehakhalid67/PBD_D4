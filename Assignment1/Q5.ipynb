{
 "cells": [
  {
   "cell_type": "code",
   "execution_count": 1,
   "id": "71044ff9",
   "metadata": {},
   "outputs": [],
   "source": [
    "import math"
   ]
  },
  {
   "cell_type": "code",
   "execution_count": 13,
   "id": "0172ae4a",
   "metadata": {},
   "outputs": [
    {
     "name": "stdout",
     "output_type": "stream",
     "text": [
      "2\n",
      "7\n",
      "10\n",
      "0\n",
      "9\n",
      "6\n",
      "Minimum Number is Queue: 0\n"
     ]
    }
   ],
   "source": [
    "class CurrentQueue:\n",
    "\n",
    "    def __init__(self,currSize,maxSize):\n",
    "        self.currSize=currSize\n",
    "        self.maxSize=maxSize\n",
    "        self.queue=[]\n",
    "\n",
    "    def enqueue(self,val):\n",
    "        self.queue.append(val)\n",
    "        self.currSize+=1\n",
    "        if self.currSize==self.maxSize:\n",
    "            self.maxSize+=1\n",
    "\n",
    "    def dequeue(self):\n",
    "        self.currSize-=1\n",
    "        return self.queue.pop(0)\n",
    "\n",
    "    def getSize(self):\n",
    "        return self.currSize\n",
    "\n",
    "    def isEmpty(self):\n",
    "        if self.currSize==0:\n",
    "            return True\n",
    "        else:\n",
    "            return False\n",
    "            \n",
    "    def isFull(self):\n",
    "        if self.currSize==self.maxSize:\n",
    "            return True\n",
    "        else:\n",
    "            return False\n",
    "\n",
    "    def getFrontValue(self):\n",
    "        if self.currSize<=0:\n",
    "            return \"No Elements Remain in Queue\"\n",
    "\n",
    "        return self.queue[0]\n",
    "\n",
    "def findSmallest(obj):\n",
    "    check=obj.dequeue();\n",
    "    print(check)\n",
    "    len=obj.getSize()\n",
    "    for i in range (len):\n",
    "       num=obj.dequeue()\n",
    "       print(num)\n",
    "       if check>=num:\n",
    "           check=num\n",
    "    print(\"Minimum Number is Queue:\",check)\n",
    "\n",
    "obj=CurrentQueue(0,5)\n",
    "obj.enqueue(2)\n",
    "obj.enqueue(7)\n",
    "obj.enqueue(10)\n",
    "obj.enqueue(0)\n",
    "obj.enqueue(9)\n",
    "obj.enqueue(6)\n",
    "\n",
    "findSmallest(obj)    "
   ]
  },
  {
   "cell_type": "code",
   "execution_count": null,
   "id": "b547def7",
   "metadata": {},
   "outputs": [],
   "source": []
  }
 ],
 "metadata": {
  "kernelspec": {
   "display_name": "Python 3",
   "language": "python",
   "name": "python3"
  },
  "language_info": {
   "codemirror_mode": {
    "name": "ipython",
    "version": 3
   },
   "file_extension": ".py",
   "mimetype": "text/x-python",
   "name": "python",
   "nbconvert_exporter": "python",
   "pygments_lexer": "ipython3",
   "version": "3.8.8"
  }
 },
 "nbformat": 4,
 "nbformat_minor": 5
}
