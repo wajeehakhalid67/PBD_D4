{
 "cells": [
  {
   "cell_type": "code",
   "execution_count": 1,
   "id": "01089d6a",
   "metadata": {},
   "outputs": [],
   "source": [
    "import math"
   ]
  },
  {
   "cell_type": "code",
   "execution_count": 17,
   "id": "9b703562",
   "metadata": {},
   "outputs": [
    {
     "name": "stdout",
     "output_type": "stream",
     "text": [
      "Lychrel numbers are there below ten-thousand 10000 : 249\n"
     ]
    }
   ],
   "source": [
    "limit=10000\n",
    "count=0\n",
    "def calculateDigits(number):\n",
    "    numberOfDigits=0\n",
    "    while(number!=0):\n",
    "        number=number/10\n",
    "        number=math.floor(number)\n",
    "        numberOfDigits=numberOfDigits+1\n",
    "    return numberOfDigits\n",
    "\n",
    "def checkPalindrome(number):\n",
    "    check=0\n",
    "    count=calculateDigits(number)\n",
    "    count2=int(count/2)\n",
    "    arr=str(number)\n",
    "\n",
    "    for i in range(count2):\n",
    "        if arr[i]==arr[count-i-1]:\n",
    "            check=check+1\n",
    "\n",
    "    if check==count2:\n",
    "        return True\n",
    "    else:\n",
    "        return False\n",
    "    \n",
    "def reverse(number):\n",
    "    arr=str(number)\n",
    "    rev=int(arr[::-1])        \n",
    "    return rev    \n",
    "    \n",
    "def sumIsPalindromeOrNot(number):\n",
    "    for i in range(50):\n",
    "        rev=reverse(number)\n",
    "        sum=number+rev\n",
    "        number=sum\n",
    "        if checkPalindrome(sum)==True:\n",
    "            return True\n",
    "        if i==49:\n",
    "            return False\n",
    "        \n",
    "for k in range(0,limit):\n",
    "    check=sumIsPalindromeOrNot(k)\n",
    "\n",
    "    if check==True:\n",
    "        count=count+1\n",
    "\n",
    "print(\"Lychrel numbers are there below ten-thousand\",limit,\":\",limit-count)"
   ]
  },
  {
   "cell_type": "code",
   "execution_count": null,
   "id": "ee52e14b",
   "metadata": {},
   "outputs": [],
   "source": []
  }
 ],
 "metadata": {
  "kernelspec": {
   "display_name": "Python 3",
   "language": "python",
   "name": "python3"
  },
  "language_info": {
   "codemirror_mode": {
    "name": "ipython",
    "version": 3
   },
   "file_extension": ".py",
   "mimetype": "text/x-python",
   "name": "python",
   "nbconvert_exporter": "python",
   "pygments_lexer": "ipython3",
   "version": "3.8.8"
  }
 },
 "nbformat": 4,
 "nbformat_minor": 5
}
