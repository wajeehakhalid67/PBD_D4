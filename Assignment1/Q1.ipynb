{
 "cells": [
  {
   "cell_type": "code",
   "execution_count": 2,
   "id": "2d312dad",
   "metadata": {},
   "outputs": [],
   "source": [
    "import math"
   ]
  },
  {
   "cell_type": "code",
   "execution_count": 18,
   "id": "b008dcdf",
   "metadata": {},
   "outputs": [
    {
     "name": "stdout",
     "output_type": "stream",
     "text": [
      "Number of Circular Primes below One million 1000 : 25\n"
     ]
    }
   ],
   "source": [
    "#Question1\n",
    "def checkPrime(value):\n",
    "    c=0\n",
    "    for j in range(1,value+1):\n",
    "        if value%j==0:\n",
    "            c=c+1\n",
    "    if c==2:\n",
    "        return True\n",
    "\n",
    "def calculateDigits(number):\n",
    "    count=0\n",
    "    while number!=0:\n",
    "        number=number/10\n",
    "        number=math.floor(number)\n",
    "        count=count+1\n",
    "    count=count-1\n",
    "    return count\n",
    "\n",
    "count=4\n",
    "limit=1000\n",
    "for k in range(2,limit):\n",
    "    number=k\n",
    "    rev=0\n",
    "    mode=0\n",
    "    digit=calculateDigits(number)\n",
    "    for j in range(digit):\n",
    "        if checkPrime(number)==True:\n",
    "            mode=number%10\n",
    "            mode=mode*(pow(10,digit))\n",
    "            number=number/10\n",
    "            number=math.floor(number)\n",
    "            rev=mode+number\n",
    "            number=rev\n",
    "        if j==digit-1 and checkPrime(rev)==True:\n",
    "            count=count+1\n",
    "\n",
    "print(\"Number of Circular Primes below One million\",limit,\":\",count)"
   ]
  },
  {
   "cell_type": "code",
   "execution_count": null,
   "id": "7b314d37",
   "metadata": {},
   "outputs": [],
   "source": []
  },
  {
   "cell_type": "code",
   "execution_count": null,
   "id": "507897d7",
   "metadata": {},
   "outputs": [],
   "source": []
  },
  {
   "cell_type": "code",
   "execution_count": null,
   "id": "a01621fc",
   "metadata": {},
   "outputs": [],
   "source": []
  },
  {
   "cell_type": "code",
   "execution_count": null,
   "id": "a493fbb1",
   "metadata": {},
   "outputs": [],
   "source": []
  }
 ],
 "metadata": {
  "kernelspec": {
   "display_name": "Python 3",
   "language": "python",
   "name": "python3"
  },
  "language_info": {
   "codemirror_mode": {
    "name": "ipython",
    "version": 3
   },
   "file_extension": ".py",
   "mimetype": "text/x-python",
   "name": "python",
   "nbconvert_exporter": "python",
   "pygments_lexer": "ipython3",
   "version": "3.8.8"
  }
 },
 "nbformat": 4,
 "nbformat_minor": 5
}
